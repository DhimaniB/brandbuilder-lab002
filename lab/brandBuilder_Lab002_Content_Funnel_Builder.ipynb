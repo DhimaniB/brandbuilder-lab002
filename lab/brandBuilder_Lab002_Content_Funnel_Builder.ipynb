{
 "cells": [
  {
   "cell_type": "markdown",
   "id": "2680854c",
   "metadata": {},
   "source": [
    "# 🧠 brandBuilder Lab #002: Content Funnel Builder\n",
    "\n",
    "**Lab Type:** Project  \n",
    "**Estimated Time:** 60–120 mins  \n",
    "**Skill Level:** Intermediate"
   ]
  },
  {
   "cell_type": "code",
   "execution_count": null,
   "id": "3f07274b",
   "metadata": {},
   "outputs": [],
   "source": [
    "# Let's begin by printing your name to personalize the notebook\n",
    "your_name = \"\"\n",
    "print(f\"Welcome to the lab, {your_name}!\")"
   ]
  },
  {
   "cell_type": "markdown",
   "id": "aa03ed3b",
   "metadata": {},
   "source": [
    "## 🔍 STAR Method Lab Prompt\n",
    "\n",
    "**Situation:**  \n",
    "[Define your marketing tech problem or opportunity.]\n",
    "\n",
    "**Task:**  \n",
    "[What are you going to build using marketing tools or Gemini AI?]\n",
    "\n",
    "**Action:**  \n",
    "[Break it into tasks using Google tools + Gemini to execute.]\n",
    "\n",
    "**Expected Result:**  \n",
    "[A page, funnel, plan, or product that shows strategy and branding.]"
   ]
  },
  {
   "cell_type": "markdown",
   "id": "e0dded01",
   "metadata": {},
   "source": [
    "## ✍️ Your Assignment\n",
    "\n",
    "_Use this section to complete your deliverable:_\n",
    "\n",
    "```markdown\n",
    "(Example Format)\n",
    "\n",
    "- **Funnel Name**: Lead Magnet → Email Series → Offer Page  \n",
    "- **Tools Used**: Google Forms, Gemini AI, Google Sheets  \n",
    "- **Assets**: eBook, autoresponder copy, social content  \n",
    "- **STAR Summary**:  \n",
    "   - S: Brand lacks lead nurturing  \n",
    "   - T: Design a basic content funnel  \n",
    "   - A: Used Gemini to draft copy and offer ideas  \n",
    "   - R: 3-part funnel with downloadable PDF + emails  \n",
    "```"
   ]
  }
 ],
 "metadata": {},
 "nbformat": 4,
 "nbformat_minor": 5
}
